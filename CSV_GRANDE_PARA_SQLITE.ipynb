{
 "cells": [
  {
   "cell_type": "code",
   "execution_count": 3,
   "metadata": {},
   "outputs": [
    {
     "name": "stdout",
     "output_type": "stream",
     "text": [
      "   UF  Código SIAFI Município      Nome Município  Código Função  \\\n",
      "0  BA                    3389  BROTAS DE MACAUBAS              8   \n",
      "1  PE                    2531              RECIFE              8   \n",
      "2  PI                    1167            PIRIPIRI              8   \n",
      "3  MA                     755          CARUTAPERA              8   \n",
      "4  PE                    2389          CHA GRANDE              8   \n",
      "\n",
      "   Código Subfunção  Código Programa  Código Ação  NIS Favorecido  \\\n",
      "0               244             1335         8442     16074176737   \n",
      "1               244             1335         8442     20033347012   \n",
      "2               244             1335         8442     16356178516   \n",
      "3               244             1335         8442     16099396730   \n",
      "4               244             1335         8442     16027702517   \n",
      "\n",
      "                         Nome Favorecido                Fonte-Finalidade  \\\n",
      "0          FLAVIANO SEBASTIAO DOS SANTOS  CAIXA - Programa Bolsa Família   \n",
      "1  ELANE PATRICIA DA SILVA DAMASIO NUNES  CAIXA - Programa Bolsa Família   \n",
      "2                LUIZA FLORINDA DA SILVA  CAIXA - Programa Bolsa Família   \n",
      "3           EDNA MARIA FERREIRA PINHEIRO  CAIXA - Programa Bolsa Família   \n",
      "4                     ANA MARIA DA SILVA  CAIXA - Programa Bolsa Família   \n",
      "\n",
      "   Valor Parcela Mês Competência  \n",
      "0          121.0         12/2017  \n",
      "1          170.0         12/2017  \n",
      "2           85.0         12/2017  \n",
      "3           85.0         12/2017  \n",
      "4          124.0         12/2017  \n"
     ]
    },
    {
     "name": "stderr",
     "output_type": "stream",
     "text": [
      "c:\\users\\ctdlu\\appdata\\local\\programs\\python\\python36-32\\lib\\site-packages\\IPython\\core\\interactiveshell.py:2728: DtypeWarning: Columns (10) have mixed types. Specify dtype option on import or set low_memory=False.\n",
      "  interactivity=interactivity, compiler=compiler, result=result)\n"
     ]
    }
   ],
   "source": [
    "import pandas as pd\n",
    "from sqlalchemy import create_engine\n",
    "\n",
    "print (pd.read_csv(\"bolsafamiliafull.csv\", nrows=5, encoding='latin1', sep='\\t')) #imprime apenas para visualizacao das primeiras linha\n",
    "csv_database = create_engine('sqlite:///bolsafamilia_2.db')\n",
    "\n",
    "chunksize = 100000 #limita uso da memoria\n",
    "i = 0\n",
    "j = 1\n",
    "for df in pd.read_csv(\"bolsafamiliafull.csv\", chunksize=chunksize, iterator=True, encoding='latin1', sep='\\t'): #SEP E LINETERMINATOR É POR CONTA DA TABULAÇÃO DO CSV\n",
    "      df = df.rename(columns={c: c.replace(' ', '') for c in df.columns}) \n",
    "      df.index += j\n",
    "      i+=1\n",
    "      df.to_sql('table', csv_database, if_exists='append')\n",
    "      j = df.index[-1] + 1"
   ]
  },
  {
   "cell_type": "code",
   "execution_count": null,
   "metadata": {},
   "outputs": [],
   "source": []
  }
 ],
 "metadata": {
  "kernelspec": {
   "display_name": "Python 3",
   "language": "python",
   "name": "python3"
  },
  "language_info": {
   "codemirror_mode": {
    "name": "ipython",
    "version": 3
   },
   "file_extension": ".py",
   "mimetype": "text/x-python",
   "name": "python",
   "nbconvert_exporter": "python",
   "pygments_lexer": "ipython3",
   "version": "3.6.3"
  }
 },
 "nbformat": 4,
 "nbformat_minor": 2
}
